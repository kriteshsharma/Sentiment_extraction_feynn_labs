{
 "cells": [
  {
   "cell_type": "code",
   "execution_count": 1,
   "id": "multiple-valuable",
   "metadata": {},
   "outputs": [],
   "source": [
    "import time\n",
    "from selenium import webdriver\n",
    "from selenium.webdriver import Chrome \n",
    "from selenium.webdriver.common.by import By \n",
    "from selenium.webdriver.common.keys import Keys \n",
    "from selenium.webdriver.support.ui import WebDriverWait\n",
    "from selenium.webdriver.support import expected_conditions as EC"
   ]
  },
  {
   "cell_type": "code",
   "execution_count": 2,
   "id": "expensive-bronze",
   "metadata": {},
   "outputs": [
    {
     "data": {
      "text/plain": [
       "[\"The Haves and the Have Nots Review\\n5 days ago (edited)\\nThis feels like a mix between Die Hard, Iron Man 3, Home Alone & I'll Be Home For Christmas all rolled into one 😂😂😂\\n24K\\nREPLY\",\n",
       " 'Jonah Shaw\\n2 days ago\\nFinally...\\n\\n\\nThe most underrated character in the MCU gets a show\\n1.5K\\nREPLY',\n",
       " 'Tom Pinney\\n2 days ago\\nMarvel meets Lethal Weapon, because Barton is definitely serving “I’m too old for this shi” vibes\\n369\\nREPLY',\n",
       " 'Yoga Malini\\n1 day ago (edited)\\nNATASHA:Before I was an avenger,I made lot of enemies\\nCLINT: When I wore this suit,I made a whole lot of enemies\\n\\nEdited: I have never get likes more than 5(one from myself 😂).\\nRead more\\n418\\nREPLY',\n",
       " 'Lynne Slates\\n2 days ago\\n“You have arrows more dangerous than that one!?” The look on his face. XD\\n152\\nREPLY',\n",
       " 'ImDavisss\\n5 days ago\\na MARVEL Christmas themed show. This looks fun\\n59K\\nREPLY',\n",
       " 'aljohn tabion\\n2 days ago\\nWhen Renner got casted as Hawkeye, I was skeptical. He’s too short.. doesn’t look the part. But now I can’t see anyone else play this part. I love how he captures Hawkeyes sarcastic humor perfecty\\n884\\nREPLY',\n",
       " 'Samuel Luebbers\\n2 days ago\\nI feel like they made this Christmas themed solely so they could make the “bring a bow” pun\\n81\\nREPLY',\n",
       " \"bazza uwu\\n1 day ago\\nHakweye was my first ever fave Avenger, I'm so glad he's finally getting the recognition he deserves!!!\\n28\\nREPLY\",\n",
       " \"Damian Vasquez\\n1 day ago\\nIf Marvel can get me interested in a HAWKEYE series, i'll be convinced they just can't do wrong anymore. IMO they haven't missed on a project since the end of phase 2.\\n20\\nREPLY\",\n",
       " 'Legundo\\n5 days ago\\nHawkeye is basically Marvel Die Hard??\\n\\nI dig it.\\n11K\\nREPLY',\n",
       " 'klloyd plata\\n1 day ago\\nThe Marvel Christmas-themed films and Television series are: MCU\\'s Marvel Studios Iron-man 3 film, MCU\\'s Marvel Studios Spider-man: No Way Home sequel film, and MCU\\'s Marvel Studios Hawkeye Television series. \"It is the Most Wonderful time of the Year!!!\"\\n18\\nREPLY',\n",
       " 'Iván Barbero\\n1 day ago\\n\"Die Hard:Peter Krieg was born Simon Peter Gruber. He\\'s Hans Gruber\\'s Brother\"\\n\"Hawkeye:Yelena Belova is actually Yelena Romanoff Belova,Natasha Romanoff\\'s sister\" 🤣🤣\\n9\\nREPLY',\n",
       " 'Wrenlin Whitelight\\n1 day ago (edited)\\nSanta Clause: \"I\\'m taking off this year, you all get a Harkeye series. Merry Christmas.\"\\n30\\nREPLY',\n",
       " 'BlazinNSoul\\n1 day ago\\n\"I never much cared for Christmas.\" Hawkeye: We should meet sometime lol. 🙀🎄💕\\n6\\nREPLY',\n",
       " 'ShortHax\\n5 days ago\\nFinally, we can see Jeremy Renner not using his bow all the time\\n21K\\nREPLY',\n",
       " \"Ayush Chacko\\n1 day ago\\nFinally, he's back with his own show.\\n11\\nREPLY\",\n",
       " 'Names Names and more Names\\n2 days ago\\nI’m so glad Hawkeye is finally getting his own thing\\nand it’s christmas/action?\\nthis outta be good.\\n16\\nREPLY',\n",
       " 'Razor Plush\\n1 day ago\\nThis version of \"most wonderful time of the year\" has been stuck in my head ever since this trailer came out\\n9\\nREPLY',\n",
       " 'Thomas Duke\\n1 day ago\\nOf course, Christmas is the most wonderful time in the year.\\n5\\nREPLY',\n",
       " 'About That Tho\\n5 days ago\\nFinally my boy Hawkeye is going to get the respect he deserves.\\n6.5K\\nREPLY',\n",
       " 'Emma N.\\n1 day ago\\nMe, seeing the Rogers musical poster: Marvel Musical flashbacks intensify\\n8\\nREPLY',\n",
       " 'Juan Catalan\\n2 days ago\\nLol I when she falls through the sky window he’s like \\n\\n“Seriously? You came to rescue me and this is how you do it?”\\n7\\nREPLY',\n",
       " \"Nikhil\\n2 days ago\\nI just hope they treat his time as Ronin and all the Fisk stuff seriously.. it looks good tho, seems they've captured the vibe of Matt fraction's run well.\\n6\\nREPLY\",\n",
       " 'Shinobi X\\n17 hours ago\\n\"The best gifts come with a bow\"\\n\\nDid they really set this whole series in Christmas just to make that pun 😳\\n3\\nREPLY',\n",
       " 'Donivia Channel\\n5 days ago\\nClint Barton need to have this show. It’s the first trailer and it’s already awesome!!\\n6.9K\\nREPLY',\n",
       " 'kate VLOGS\\n1 day ago\\nLiterally can’t stop watching this\\n5\\nREPLY',\n",
       " \"klloyd plata\\n1 day ago\\nI also need Frank Castle celebrating Christmas in MCU's Marvel Studios Hawkeye Television series. I'm soooooooo very super sure that Jon Bernthal's Frank Castle aka The Punisher existing in the MCU without knowing really knew where he is going to be spot on.\\n4\\nREPLY\",\n",
       " \"Dovlet Mengliyev\\n17 hours ago\\nThis feels like a blend between Kick the bucket Difficult, Press Man 3, Domestic Alone & I'll Be Domestic For Christmas all rolled into one 😂😂😂\\n1\\nREPLY\",\n",
       " 'Toy_Bonnie\\n1 day ago\\nCant wait to see Rogers the musical \\nHamilton step aside Steve’s got the new best\\n3\\nREPLY',\n",
       " 'Heavy Spoilers\\n5 days ago\\nMarvel are like Hawkeye because they never miss\\n5.8K\\nREPLY',\n",
       " \"Potahtwah\\n2 days ago\\nSo, this seems a lot more comedy focused, with the jokes, and rogers the musical, so that's a nice change of pace. Though I can bet something batshit insane will happen near the end.\\n1\\nREPLY\",\n",
       " \"Andre John\\n7 hours ago\\nLet's give Hawkeye and Kate Biship some love this Phase guys.\\n1\\nREPLY\",\n",
       " 'automaniac\\n2 days ago (edited)\\nDie hard fans: Die hard is a christmas movie.\\n\\nHawkeye fans: hold my beer and move along grandpa..🤣\\n2\\nREPLY',\n",
       " 'Staerrynight J\\n14 hours ago\\nAbout time my boy Hawkeye got the recognition he deserves!! He’s so underrated\\n2\\nREPLY',\n",
       " 'Giovana P.\\n3 days ago\\nI love how he just looks completely done with everything and everyone during the entire thing\\n2.1K\\nREPLY',\n",
       " \"Neurodrill\\n1 day ago\\nI adore the fact he has an earpiece and they've never once even hinted in the MCU he's hearing impaired.\\n1\\nREPLY\",\n",
       " 'shani yan\\n23 hours ago\\nI love how he just looks completely done with everything and everyone during the entire thing\\nREPLY',\n",
       " 'Harrison Durand\\n4 hours ago\\nThis looks so good, way better than falcon and the winter soldier\\n1\\nREPLY',\n",
       " 'Sophie Lim\\n10 hours ago\\ni’m gonna put this out there. after watching hailee steinfield star in pitch perfect 2 and edge of seventeen, watching her play a marvel superhero is blowing my mind.\\n1\\nREPLY',\n",
       " 'Roberto Blake\\n5 days ago\\nIt’s a Marvel version of Die Hard and I’m here for it.\\n3K\\nREPLY',\n",
       " \"DanP\\n2 days ago\\nI love the fact that it's set up is on Christmas. The song made my day\\n3\\nREPLY\",\n",
       " 'Graf Aramaic\\n1 day ago (edited)\\nBe interesting to see archer \"Hawkeye\" as only one aspect of this SPY\\'S codename\\nREPLY',\n",
       " 'Bumble - Bee\\n2 days ago\\nKevin Smith called me and assured me that this series will be exactly about Hawkeye and he will be in the foreground\\n1\\nREPLY',\n",
       " 'Aaron Comer\\n1 day ago\\nThis show looks spectacular! So glad we get six hours of Hawkeye rather than two! I keep coming back to this trailer\\nREPLY',\n",
       " \"Heretics Espe\\n5 days ago\\nJeremy needs this, and we need this too. Can't wait!! 🥺\\n963\\nREPLY\",\n",
       " 'Valkyrie\\n2 hours ago\\nMy expectations were high,\\n\\nNow they are even higher.\\nRead more\\nREPLY',\n",
       " \"Rytus\\n2 days ago\\nI'm looking forward to this. It looks quite refreshing for marvel, feels more grounded.\\n1\\nREPLY\",\n",
       " 'echellm\\n5 hours ago\\nIf I didn’t know Hawkeye was a Marvel character, I would have never guessed that this was a Marvel production.\\nREPLY',\n",
       " 'Loki\\n3 hours ago\\nFinally Hawkeye is probably one of the most underrated characters\\nREPLY',\n",
       " 'DistantKingdom\\n5 days ago\\nhopefully hawkeye avoids getting kicked in the nuts unlike his less fortunate costars!\\n1.9K\\nREPLY',\n",
       " 'Banannex\\n1 day ago\\nWe will finally see Hawkeyes true skill and that makes me stoked abt this.\\nREPLY',\n",
       " 'SORCE XTINCT\\n18 hours ago\\nI honestly thought that “worlds greatest archer” girl was Katniss Everdeen for a second\\n2\\nREPLY',\n",
       " 'opzz xsin\\n10 hours ago\\n\"Die Hard:Peter Krieg was born Simon Peter Gruber. He\\'s Hans Gruber\\'s Brother\" \"Hawkeye:Yelena Belova is actually Yelena Romanoff Belova,Natasha Romanoff\\'s sister\" 🤣\\nREPLY',\n",
       " 'Falcon Echo\\n1 day ago\\nGreen arrow fans clicking the dislike button like crazy 😂😂😂\\n3\\nREPLY',\n",
       " 'ScaryPills\\n5 days ago\\nWell, This Was Unexpected 🔥\\n1.6K\\nREPLY',\n",
       " \"payb six\\n1 hour ago\\nSo we're just gonna ignore the fact that Professor's Gang is doing a heist and holding Clint as hostage?\\nREPLY\",\n",
       " \"Ashianna Tijana\\n1 day ago (edited)\\nThis is sooo exciting!! I'm excited to see Yelena how she will fight Clint or maybe Kate lmao\\n1\\nREPLY\",\n",
       " 'B. Murphy\\n2 days ago\\nSuper cool that we\\'re loading up Kate Bishop so as to have \"younger\" stars to carry on the franchise, I guess.\\nI just want to know if she can teleport...\\nREPLY',\n",
       " 'An Amazing Fantasy\\n1 day ago\\nT-they did it. They made me excited for a Hawkeye show.\\n1\\nREPLY',\n",
       " 'GenerationWest\\n5 days ago\\nIron Man 3, Hawkeye, GOTG Holiday Special. Marvel Studios wants to be in the fans Christmas rotation constantly!\\n1.6K\\nREPLY',\n",
       " 'Vijay Rawat\\n2 days ago\\nme waiting for hawkeye to smile for one time in the whole series.\\n2\\nREPLY',\n",
       " 'Aranyak Rakshit\\n9 hours ago (edited)\\nWhy does this trailer soundtrack and style remind of 2019 Joker teaser trailer(atleast the first half of the trailer)?\\n2\\nREPLY',\n",
       " 'Sherry Muthiga\\n11 hours ago\\nImagiiiiinneee how hype it’ll be to watch this AND the Gotg special every holiday season now omg we are blesseeeedd😭✨😩❤️💚❤️💚\\nREPLY',\n",
       " \"P.B Amygdala2021\\n1 day ago\\nCAN'T WAIT for the Pitch Meeting.\\n2\\nREPLY\",\n",
       " 'Johnny Blaze Gaming\\n5 days ago\\nThe best gifts come with a bow 🔥\\n1.9K\\nREPLY',\n",
       " 'AL Videobricks\\n2 days ago (edited)\\nFamily guy would make a joke right now saying “COMING THIS SUMMER, THOR’S HAMMER’S HANDLE’S LEATHER’S JOURNEY: THE SERIES”\\nREPLY',\n",
       " 's q u i r t l e\\n1 day ago\\nman this seems hella fun and entertaining, cant wait to watch this\\n1\\nREPLY',\n",
       " 'NO ONE\\n8 hours ago\\nThis feels like a James Bond movie with a slash of Home Alone and some fantastical things that only happen in Marvel\\nREPLY',\n",
       " 'EclipsePlays\\n9 hours ago\\nIt would be the most wonderful time of the year when the movie comes out\\n1\\nREPLY',\n",
       " 'FrankValchiria\\n4 days ago\\nKevin has finally grown up, now he is taking on bigger mobs.\\n2.4K\\nREPLY',\n",
       " 'alyh\\n12 hours ago\\nHome Alone and I’ll Be Home For Christmas meets Die Hard and James Bond, Marvel style! I can’t futzing wait for this!\\nREPLY',\n",
       " \"annag cocl\\n1 day ago\\nHonestly this time Hawkeye is REALLY giving the comic Hawkeye vibe and I'm loving it !!!!\\nREPLY\",\n",
       " 'Kris_KWAS\\n1 day ago\\nTHE GOAT FINALLY GETS WHAT HE DESERVES\\n1\\nREPLY',\n",
       " \"M Jo\\n1 day ago\\nDon't ruin this character like you did black widow...I expected black widow to be up there with The Winter soldier\\n2\\nREPLY\",\n",
       " 'Shayek\\n5 days ago\\nJeremy deserved this ❤️\\n1.5K\\nREPLY',\n",
       " 'Ptao Tom\\n1 hour ago\\nThis version of \"most wonderful time of the year\" has been stuck in my head ever since this trailer came out\\nREPLY',\n",
       " \"klloyd plata\\n1 day ago\\nOr maybe in MCU's Marvel Studios Spider-man: No Way Home sequel film because in the comicbooks, they meet as enemies but at one point, he realizes, Spider-man is NOT or NEVER the enemy. Jackal made him that way or made him evil.\\n1\\nREPLY\",\n",
       " \"Venera Kushner\\n13 hours ago\\nLooks just awesome. Really, really excited! It's going to be a marvelous Christmas!\\nREPLY\",\n",
       " \"Cecilia Palanza\\n1 day ago\\nThis could be the thing that makes me actually like Clint Barton. Or maybe I just like it cause it has the Most Wonderful Time of the Year playing in the background. Either way, I'm looking forward to it.\\nREPLY\",\n",
       " 'Hollywood Tamizha\\n5 days ago (edited)\\nFinally Hawkeye Have Got a Solo Play... 🎉🎉🎉\\n1.9K\\nREPLY',\n",
       " 'Babs Checkett\\n2 days ago\\nEven though we are months from Christmas, this trailer and the music have me SO hyped for this Christmas lol\\nREPLY',\n",
       " 'Wendel N\\n1 day ago\\nThis will definitely prove Hawkeyes finally an important and worthy avenger! YES!\\nREPLY',\n",
       " 'Hardik Agarwal(DBL)\\n13 hours ago\\nHawkeye retired for like 3 weeks and there is now a multiverse of chaos. \\nRead more\\n2\\nREPLY',\n",
       " 'Richard Clark\\n1 day ago\\nLooks good and counts as a Christmas film. Could be the new die hard!\\nREPLY',\n",
       " 'MWG Studios\\n5 days ago\\nFans: “I don’t need a new show!”\\nDisney: “Shiny Hawkeye shaped carrot.”\\nFans: “Do you accept souls as payment?”\\n2.3K\\nREPLY',\n",
       " 'Shagi Rani\\n12 hours ago\\nThis was really underated in my opinion...\\n1\\nREPLY',\n",
       " 'HenchmenNo616\\n1 day ago\\nLike the trailer or not, that molotov counter throw is appreciated\\nREPLY',\n",
       " 'Oog\\n1 day ago\\nWhy do I have a feeling this will be the best of the marvel shows so far\\n4\\nREPLY',\n",
       " 'Sarcasm\\n2 days ago\\nThat \"bow\" joke was fittingly quite the dad joke\\nREPLY',\n",
       " 'Pit Friend\\n5 days ago\\nWe need “Rogers: The Musical” as a bonus episode.\\n1.8K\\nREPLY',\n",
       " 'Bacca and the Squad\\n2 days ago\\nI don’t think I have been more exited for a marvel project ever then this\\n1\\nREPLY',\n",
       " \"Kvothe\\n1 day ago\\nI wanted this to be waaay darker tho, with Ronin and all . I'd settle for some ninjas tho\\nREPLY\",\n",
       " 'Beatriz Zacharias\\n2 days ago\\nMarvel giving us a fine addition to an annual Xmas marathon\\nREPLY',\n",
       " 'Pranav Goyal\\n1 day ago\\nI am really happy Hawkeye is getting the recognition it deserved for a long time. The trailer is a blast\\nREPLY',\n",
       " 'Dam\\n4 days ago\\nClint probably lost his hearing after Thanos decided to nuke The Avengers HQ\\n2.3K\\nREPLY',\n",
       " 'Pudaya18\\n1 day ago\\nIt’s a marvel x james bond x christmas theme this is everything i ever wanted in my live 😍\\nREPLY',\n",
       " 'Sujeet kumar\\n44 minutes ago\\nYou know the movie is going to be funny and adventurous when  it involves Christmas\\nREPLY',\n",
       " 'Dare\\n16 hours ago\\nShe was starving until she tasted Hawkeye.\\n1\\nREPLY',\n",
       " 'Anna Maggiore\\n1 day ago\\n1. Hawkeye deserves this badly\\n2. I love the setting of this series promo so far\\n3. Kate Bishop looks awesome (I think that’s her name idk)\\n4. This is gonna be top notch.\\nRead more\\nREPLY',\n",
       " 'Nikachu\\n5 days ago\\nIs it sad this is making me hype for Christmas more than anything else? Nope? Okay. Sweet. LETS GO\\n840\\nREPLY',\n",
       " 'Shizz Sosa\\n11 hours ago\\nAction comedy... Giving poor Hawkeye the Thor treatment.\\n1\\nREPLY',\n",
       " \"Levi Orosz\\n1 day ago\\nI wanna see Kate with Billy's older version as a couple <3\\n1\\nREPLY\",\n",
       " 'stefan yallouran\\n1 day ago\\nSo the remaining hero\\'s are seeing to the universal effects of the \"snap\", as Iron Patriot and Black Widow track Hawkeye\\'s bloody wake of carnage - and all the while, he\\'s found himself a teenage wannabe, apparently quite happy to go along with his psychotic global revenge-arama breakdown?\\nREPLY',\n",
       " 'Aztecelotl\\n2 days ago\\nI just wanna see someone praying Thanos because he saved the world from overpopulation\\nREPLY',\n",
       " 'Bribe\\n5 days ago\\nthis looks insanely good i cannot wait to see it!\\n1.7K\\nREPLY',\n",
       " 'Tech Supply\\n12 hours ago\\nThe marvelous napkin electrophysiologically spot because bracket posteriorly muddle unlike a flat exchange. likeable, outrageous scorpio\\nREPLY',\n",
       " 'Patman Jones\\n2 days ago\\nWas not expecting this to be a Christmas show, but I’m not mad\\nREPLY',\n",
       " 'liouy cnny\\n14 hours ago\\nMe, seeing the Rogers musical poster: Marvel Musical flashbacks intensify\\nREPLY',\n",
       " 'AFAQUE AHMED\\n23 hours ago\\nNarrator :- It is the most wonderful time . \\nMovie scene :- People dying and cars exploding . \\nYep definitely American .\\n3\\nREPLY',\n",
       " 'Cjrebirth\\n5 days ago (edited)\\nThis looks AWESOME!!!!\\n\\nAlso, \"there\\'s arrows more dangerous than that one?!\" 😂\\n1.2K\\nREPLY',\n",
       " \"Gabriel Silva\\n1 day ago\\nTotally inspired by Matt Fraction and David Aja's Hawkeye comic.\\nREPLY\",\n",
       " \"Will Black\\n2 days ago\\nMaybe now we'll get some decent Hawkeye merch for the fans that have been waiting for it since being 8 yrs old,\\n3\\nREPLY\",\n",
       " 'Shrek Child\\n16 hours ago\\nI wonder if this is going to be a marvel musical\\n1\\nREPLY',\n",
       " \"K Factor\\n2 days ago\\nI did not realize how interested I'd actually be in this show. Really like the Christmas theme\\n5\\nREPLY\",\n",
       " 'S0LIDUS\\n2 days ago\\nThis Christmas... Hawkeye teams up with the most unexpected of characters: Emily Dickenson.\\n1.5K\\nREPLY',\n",
       " 'Abhishek Sharma\\n8 hours ago\\nHawkeye is the most danger an comedian in Marvel studios.. we love Hawkeye\\nREPLY',\n",
       " 'Luciano Quezada\\n1 day ago\\nThis just makes me feel like maybe actually just maybe, Christmas will actually feel like it this year I hope.\\nREPLY',\n",
       " \"中國帕特里克\\n2 days ago\\nHope we get Sinatra's Christmas songs in the show\\nREPLY\",\n",
       " 'Michael Harris\\n2 days ago\\nOk I feel like this is going to be the best one yet. This trailer feels like it knows what it is.\\nREPLY']"
      ]
     },
     "execution_count": 2,
     "metadata": {},
     "output_type": "execute_result"
    }
   ],
   "source": [
    "def ScrapComments(path):\n",
    "  authors = []                                                                                                                                                                                                                                                                                                                                                                                                                                                                                                                                                                                                                                                                                                                                                                                           \n",
    "  try:\n",
    "    # Configuring the ChromeDriver\n",
    "    options = webdriver.ChromeOptions()\n",
    "    options.add_argument('-headless')\n",
    "    options.add_argument('-no-sandbox')\n",
    "    options.add_argument('-disable-dev-shm-usage')\n",
    "    #wd = webdriver.Chrome('chromedriver',chrome_options=options)\n",
    "    driver =webdriver.Chrome('chromedriver',options=options)\n",
    "    wait = WebDriverWait(driver,15)\n",
    "    driver.get(path)\n",
    "    \n",
    "    # Expanding Comments 6 times to load atleast 100 comments\n",
    "    #now changed to 3\n",
    "    for item in range(6):\n",
    "      wait.until(EC.visibility_of_element_located((By.TAG_NAME,\"body\"))).send_keys(Keys.END)\n",
    "      time.sleep(5)\n",
    "    \n",
    "    # Scrapping all the comments and their author\n",
    "    for author in wait.until(EC.presence_of_all_elements_located((By.CLASS_NAME,\"style-scope ytd-comment-renderer\"))):\n",
    "      authors.append(author.text)\n",
    "    \n",
    "  except Exception as e:\n",
    "    print(e)\n",
    "  return authors\n",
    "#paste input link here\n",
    "\n",
    "\n",
    "path = \"https://www.youtube.com/watch?v=5VYb3B1ETlk\"\n",
    "data = ScrapComments(path)\n",
    "data"
   ]
  },
  {
   "cell_type": "code",
   "execution_count": 3,
   "id": "maritime-produce",
   "metadata": {},
   "outputs": [
    {
     "data": {
      "text/html": [
       "<div>\n",
       "<style scoped>\n",
       "    .dataframe tbody tr th:only-of-type {\n",
       "        vertical-align: middle;\n",
       "    }\n",
       "\n",
       "    .dataframe tbody tr th {\n",
       "        vertical-align: top;\n",
       "    }\n",
       "\n",
       "    .dataframe thead th {\n",
       "        text-align: right;\n",
       "    }\n",
       "</style>\n",
       "<table border=\"1\" class=\"dataframe\">\n",
       "  <thead>\n",
       "    <tr style=\"text-align: right;\">\n",
       "      <th></th>\n",
       "      <th>Comments</th>\n",
       "    </tr>\n",
       "  </thead>\n",
       "  <tbody>\n",
       "    <tr>\n",
       "      <th>The Haves and the Have Nots Review</th>\n",
       "      <td>This feels like a mix between Die Hard, Iron M...</td>\n",
       "    </tr>\n",
       "    <tr>\n",
       "      <th>Jonah Shaw</th>\n",
       "      <td>Finally...\\n\\n\\nThe most underrated character ...</td>\n",
       "    </tr>\n",
       "    <tr>\n",
       "      <th>Tom Pinney</th>\n",
       "      <td>Marvel meets Lethal Weapon, because Barton is ...</td>\n",
       "    </tr>\n",
       "    <tr>\n",
       "      <th>Yoga Malini</th>\n",
       "      <td>NATASHA:Before I was an avenger,I made lot of ...</td>\n",
       "    </tr>\n",
       "    <tr>\n",
       "      <th>Lynne Slates</th>\n",
       "      <td>“You have arrows more dangerous than that one!...</td>\n",
       "    </tr>\n",
       "    <tr>\n",
       "      <th>...</th>\n",
       "      <td>...</td>\n",
       "    </tr>\n",
       "    <tr>\n",
       "      <th>S0LIDUS</th>\n",
       "      <td>This Christmas... Hawkeye teams up with the mo...</td>\n",
       "    </tr>\n",
       "    <tr>\n",
       "      <th>Abhishek Sharma</th>\n",
       "      <td>Hawkeye is the most danger an comedian in Marv...</td>\n",
       "    </tr>\n",
       "    <tr>\n",
       "      <th>Luciano Quezada</th>\n",
       "      <td>This just makes me feel like maybe actually ju...</td>\n",
       "    </tr>\n",
       "    <tr>\n",
       "      <th>中國帕特里克</th>\n",
       "      <td>Hope we get Sinatra's Christmas songs in the show</td>\n",
       "    </tr>\n",
       "    <tr>\n",
       "      <th>Michael Harris</th>\n",
       "      <td>Ok I feel like this is going to be the best on...</td>\n",
       "    </tr>\n",
       "  </tbody>\n",
       "</table>\n",
       "<p>120 rows × 1 columns</p>\n",
       "</div>"
      ],
      "text/plain": [
       "                                                                              Comments\n",
       "The Haves and the Have Nots Review   This feels like a mix between Die Hard, Iron M...\n",
       "Jonah Shaw                           Finally...\\n\\n\\nThe most underrated character ...\n",
       "Tom Pinney                           Marvel meets Lethal Weapon, because Barton is ...\n",
       "Yoga Malini                          NATASHA:Before I was an avenger,I made lot of ...\n",
       "Lynne Slates                         “You have arrows more dangerous than that one!...\n",
       "...                                                                                ...\n",
       "S0LIDUS                              This Christmas... Hawkeye teams up with the mo...\n",
       "Abhishek Sharma                      Hawkeye is the most danger an comedian in Marv...\n",
       "Luciano Quezada                      This just makes me feel like maybe actually ju...\n",
       "中國帕特里克                               Hope we get Sinatra's Christmas songs in the show\n",
       "Michael Harris                       Ok I feel like this is going to be the best on...\n",
       "\n",
       "[120 rows x 1 columns]"
      ]
     },
     "execution_count": 3,
     "metadata": {},
     "output_type": "execute_result"
    }
   ],
   "source": [
    "import re\n",
    "import pandas as pd\n",
    "def create_df_author_comments1(data):\n",
    "  author_comment = []\n",
    "  author=[]\n",
    "  for item in data:\n",
    "    s = re.sub('\\\\n[0-9]+ (days|weeks|months|years|week|month|year|hours|hour|day|minutes|minute) ago' ,'',item)\n",
    "    s = re.sub('\\\\nREPLY','',s)\n",
    "    s = re.sub('\\.\\\\n[0-9][\\.]*[0-9]*[A-Z]*','',s)\n",
    "    t = s.split('\\n')\n",
    "    t[0] = re.sub('\\(edited\\)','',t[0])\n",
    "    author.append(t[0])\n",
    "    s = \"\\n\".join(t[1:])\n",
    "    author_comment.append(s)\n",
    "  df = pd.DataFrame(author_comment,index=author,columns=[\"Comments\"])\n",
    "  return df\n",
    "author_comment = create_df_author_comments1(data)\n",
    "author_comment"
   ]
  },
  {
   "cell_type": "code",
   "execution_count": 4,
   "id": "regulated-professional",
   "metadata": {},
   "outputs": [
    {
     "data": {
      "text/html": [
       "<div>\n",
       "<style scoped>\n",
       "    .dataframe tbody tr th:only-of-type {\n",
       "        vertical-align: middle;\n",
       "    }\n",
       "\n",
       "    .dataframe tbody tr th {\n",
       "        vertical-align: top;\n",
       "    }\n",
       "\n",
       "    .dataframe thead th {\n",
       "        text-align: right;\n",
       "    }\n",
       "</style>\n",
       "<table border=\"1\" class=\"dataframe\">\n",
       "  <thead>\n",
       "    <tr style=\"text-align: right;\">\n",
       "      <th></th>\n",
       "      <th>Comments</th>\n",
       "    </tr>\n",
       "  </thead>\n",
       "  <tbody>\n",
       "    <tr>\n",
       "      <th>The Haves and the Have Nots Review</th>\n",
       "      <td>This feels like a mix between Die Hard, Iron M...</td>\n",
       "    </tr>\n",
       "    <tr>\n",
       "      <th>Jonah Shaw</th>\n",
       "      <td>Finally...\\n\\n\\nThe most underrated character ...</td>\n",
       "    </tr>\n",
       "    <tr>\n",
       "      <th>Tom Pinney</th>\n",
       "      <td>Marvel meets Lethal Weapon, because Barton is ...</td>\n",
       "    </tr>\n",
       "    <tr>\n",
       "      <th>Yoga Malini</th>\n",
       "      <td>NATASHA:Before I was an avenger,I made lot of ...</td>\n",
       "    </tr>\n",
       "    <tr>\n",
       "      <th>Lynne Slates</th>\n",
       "      <td>“You have arrows more dangerous than that one!...</td>\n",
       "    </tr>\n",
       "  </tbody>\n",
       "</table>\n",
       "</div>"
      ],
      "text/plain": [
       "                                                                              Comments\n",
       "The Haves and the Have Nots Review   This feels like a mix between Die Hard, Iron M...\n",
       "Jonah Shaw                           Finally...\\n\\n\\nThe most underrated character ...\n",
       "Tom Pinney                           Marvel meets Lethal Weapon, because Barton is ...\n",
       "Yoga Malini                          NATASHA:Before I was an avenger,I made lot of ...\n",
       "Lynne Slates                         “You have arrows more dangerous than that one!..."
      ]
     },
     "execution_count": 4,
     "metadata": {},
     "output_type": "execute_result"
    }
   ],
   "source": [
    "author_comment.head()"
   ]
  },
  {
   "cell_type": "code",
   "execution_count": 5,
   "id": "spectacular-application",
   "metadata": {},
   "outputs": [
    {
     "data": {
      "text/html": [
       "<div>\n",
       "<style scoped>\n",
       "    .dataframe tbody tr th:only-of-type {\n",
       "        vertical-align: middle;\n",
       "    }\n",
       "\n",
       "    .dataframe tbody tr th {\n",
       "        vertical-align: top;\n",
       "    }\n",
       "\n",
       "    .dataframe thead th {\n",
       "        text-align: right;\n",
       "    }\n",
       "</style>\n",
       "<table border=\"1\" class=\"dataframe\">\n",
       "  <thead>\n",
       "    <tr style=\"text-align: right;\">\n",
       "      <th></th>\n",
       "      <th>Comments</th>\n",
       "    </tr>\n",
       "  </thead>\n",
       "  <tbody>\n",
       "    <tr>\n",
       "      <th>count</th>\n",
       "      <td>120</td>\n",
       "    </tr>\n",
       "    <tr>\n",
       "      <th>unique</th>\n",
       "      <td>120</td>\n",
       "    </tr>\n",
       "    <tr>\n",
       "      <th>top</th>\n",
       "      <td>This feels like a James Bond movie with a slas...</td>\n",
       "    </tr>\n",
       "    <tr>\n",
       "      <th>freq</th>\n",
       "      <td>1</td>\n",
       "    </tr>\n",
       "  </tbody>\n",
       "</table>\n",
       "</div>"
      ],
      "text/plain": [
       "                                                 Comments\n",
       "count                                                 120\n",
       "unique                                                120\n",
       "top     This feels like a James Bond movie with a slas...\n",
       "freq                                                    1"
      ]
     },
     "execution_count": 5,
     "metadata": {},
     "output_type": "execute_result"
    }
   ],
   "source": [
    "author_comment.describe()\n"
   ]
  },
  {
   "cell_type": "code",
   "execution_count": 6,
   "id": "discrete-benjamin",
   "metadata": {},
   "outputs": [],
   "source": [
    "from textblob import TextBlob"
   ]
  },
  {
   "cell_type": "code",
   "execution_count": 7,
   "id": "blank-electronics",
   "metadata": {},
   "outputs": [],
   "source": [
    "def sentiment_func(Comments):\n",
    "    try:\n",
    "        return TextBlob(Comments).sentiment\n",
    "    except:\n",
    "        return None"
   ]
  },
  {
   "cell_type": "code",
   "execution_count": 8,
   "id": "purple-perfume",
   "metadata": {},
   "outputs": [],
   "source": [
    "author_comment['review'] = author_comment['Comments'].apply(sentiment_func)"
   ]
  },
  {
   "cell_type": "code",
   "execution_count": 9,
   "id": "hollywood-gothic",
   "metadata": {},
   "outputs": [
    {
     "data": {
      "text/html": [
       "<div>\n",
       "<style scoped>\n",
       "    .dataframe tbody tr th:only-of-type {\n",
       "        vertical-align: middle;\n",
       "    }\n",
       "\n",
       "    .dataframe tbody tr th {\n",
       "        vertical-align: top;\n",
       "    }\n",
       "\n",
       "    .dataframe thead th {\n",
       "        text-align: right;\n",
       "    }\n",
       "</style>\n",
       "<table border=\"1\" class=\"dataframe\">\n",
       "  <thead>\n",
       "    <tr style=\"text-align: right;\">\n",
       "      <th></th>\n",
       "      <th>Comments</th>\n",
       "      <th>review</th>\n",
       "    </tr>\n",
       "  </thead>\n",
       "  <tbody>\n",
       "    <tr>\n",
       "      <th>The Haves and the Have Nots Review</th>\n",
       "      <td>This feels like a mix between Die Hard, Iron M...</td>\n",
       "      <td>(-0.2916666666666667, 0.5416666666666666)</td>\n",
       "    </tr>\n",
       "    <tr>\n",
       "      <th>Jonah Shaw</th>\n",
       "      <td>Finally...\\n\\n\\nThe most underrated character ...</td>\n",
       "      <td>(0.25, 0.75)</td>\n",
       "    </tr>\n",
       "    <tr>\n",
       "      <th>Tom Pinney</th>\n",
       "      <td>Marvel meets Lethal Weapon, because Barton is ...</td>\n",
       "      <td>(0.05, 0.35)</td>\n",
       "    </tr>\n",
       "    <tr>\n",
       "      <th>Yoga Malini</th>\n",
       "      <td>NATASHA:Before I was an avenger,I made lot of ...</td>\n",
       "      <td>(0.39999999999999997, 0.4666666666666666)</td>\n",
       "    </tr>\n",
       "    <tr>\n",
       "      <th>Lynne Slates</th>\n",
       "      <td>“You have arrows more dangerous than that one!...</td>\n",
       "      <td>(-0.125, 0.7)</td>\n",
       "    </tr>\n",
       "  </tbody>\n",
       "</table>\n",
       "</div>"
      ],
      "text/plain": [
       "                                                                              Comments  \\\n",
       "The Haves and the Have Nots Review   This feels like a mix between Die Hard, Iron M...   \n",
       "Jonah Shaw                           Finally...\\n\\n\\nThe most underrated character ...   \n",
       "Tom Pinney                           Marvel meets Lethal Weapon, because Barton is ...   \n",
       "Yoga Malini                          NATASHA:Before I was an avenger,I made lot of ...   \n",
       "Lynne Slates                         “You have arrows more dangerous than that one!...   \n",
       "\n",
       "                                                                        review  \n",
       "The Haves and the Have Nots Review   (-0.2916666666666667, 0.5416666666666666)  \n",
       "Jonah Shaw                                                        (0.25, 0.75)  \n",
       "Tom Pinney                                                        (0.05, 0.35)  \n",
       "Yoga Malini                          (0.39999999999999997, 0.4666666666666666)  \n",
       "Lynne Slates                                                     (-0.125, 0.7)  "
      ]
     },
     "execution_count": 9,
     "metadata": {},
     "output_type": "execute_result"
    }
   ],
   "source": [
    "author_comment.head()\n",
    "#delte later"
   ]
  },
  {
   "cell_type": "code",
   "execution_count": 10,
   "id": "reserved-editing",
   "metadata": {},
   "outputs": [],
   "source": [
    "author_comment['review'][0][0]\n",
    "author_comment['polarity'] = author_comment['review'].apply(lambda x:x[0])\n",
    "author_comment['subjectivity'] = author_comment['review'].apply(lambda x:x[1])"
   ]
  },
  {
   "cell_type": "code",
   "execution_count": 11,
   "id": "perfect-champion",
   "metadata": {},
   "outputs": [
    {
     "data": {
      "text/html": [
       "<div>\n",
       "<style scoped>\n",
       "    .dataframe tbody tr th:only-of-type {\n",
       "        vertical-align: middle;\n",
       "    }\n",
       "\n",
       "    .dataframe tbody tr th {\n",
       "        vertical-align: top;\n",
       "    }\n",
       "\n",
       "    .dataframe thead th {\n",
       "        text-align: right;\n",
       "    }\n",
       "</style>\n",
       "<table border=\"1\" class=\"dataframe\">\n",
       "  <thead>\n",
       "    <tr style=\"text-align: right;\">\n",
       "      <th></th>\n",
       "      <th>Comments</th>\n",
       "      <th>review</th>\n",
       "      <th>polarity</th>\n",
       "      <th>subjectivity</th>\n",
       "    </tr>\n",
       "  </thead>\n",
       "  <tbody>\n",
       "    <tr>\n",
       "      <th>The Haves and the Have Nots Review</th>\n",
       "      <td>This feels like a mix between Die Hard, Iron M...</td>\n",
       "      <td>(-0.2916666666666667, 0.5416666666666666)</td>\n",
       "      <td>-0.291667</td>\n",
       "      <td>0.541667</td>\n",
       "    </tr>\n",
       "    <tr>\n",
       "      <th>Jonah Shaw</th>\n",
       "      <td>Finally...\\n\\n\\nThe most underrated character ...</td>\n",
       "      <td>(0.25, 0.75)</td>\n",
       "      <td>0.250000</td>\n",
       "      <td>0.750000</td>\n",
       "    </tr>\n",
       "    <tr>\n",
       "      <th>Tom Pinney</th>\n",
       "      <td>Marvel meets Lethal Weapon, because Barton is ...</td>\n",
       "      <td>(0.05, 0.35)</td>\n",
       "      <td>0.050000</td>\n",
       "      <td>0.350000</td>\n",
       "    </tr>\n",
       "    <tr>\n",
       "      <th>Yoga Malini</th>\n",
       "      <td>NATASHA:Before I was an avenger,I made lot of ...</td>\n",
       "      <td>(0.39999999999999997, 0.4666666666666666)</td>\n",
       "      <td>0.400000</td>\n",
       "      <td>0.466667</td>\n",
       "    </tr>\n",
       "    <tr>\n",
       "      <th>Lynne Slates</th>\n",
       "      <td>“You have arrows more dangerous than that one!...</td>\n",
       "      <td>(-0.125, 0.7)</td>\n",
       "      <td>-0.125000</td>\n",
       "      <td>0.700000</td>\n",
       "    </tr>\n",
       "  </tbody>\n",
       "</table>\n",
       "</div>"
      ],
      "text/plain": [
       "                                                                              Comments  \\\n",
       "The Haves and the Have Nots Review   This feels like a mix between Die Hard, Iron M...   \n",
       "Jonah Shaw                           Finally...\\n\\n\\nThe most underrated character ...   \n",
       "Tom Pinney                           Marvel meets Lethal Weapon, because Barton is ...   \n",
       "Yoga Malini                          NATASHA:Before I was an avenger,I made lot of ...   \n",
       "Lynne Slates                         “You have arrows more dangerous than that one!...   \n",
       "\n",
       "                                                                        review  \\\n",
       "The Haves and the Have Nots Review   (-0.2916666666666667, 0.5416666666666666)   \n",
       "Jonah Shaw                                                        (0.25, 0.75)   \n",
       "Tom Pinney                                                        (0.05, 0.35)   \n",
       "Yoga Malini                          (0.39999999999999997, 0.4666666666666666)   \n",
       "Lynne Slates                                                     (-0.125, 0.7)   \n",
       "\n",
       "                                     polarity  subjectivity  \n",
       "The Haves and the Have Nots Review  -0.291667      0.541667  \n",
       "Jonah Shaw                           0.250000      0.750000  \n",
       "Tom Pinney                           0.050000      0.350000  \n",
       "Yoga Malini                          0.400000      0.466667  \n",
       "Lynne Slates                        -0.125000      0.700000  "
      ]
     },
     "execution_count": 11,
     "metadata": {},
     "output_type": "execute_result"
    }
   ],
   "source": [
    "author_comment.head() #delte later"
   ]
  },
  {
   "cell_type": "code",
   "execution_count": 12,
   "id": "cordless-fellow",
   "metadata": {},
   "outputs": [],
   "source": [
    "#move to top\n",
    "\n",
    "import matplotlib.pyplot as plt\n",
    "import pandas as pd\n",
    "import numpy as np"
   ]
  },
  {
   "cell_type": "code",
   "execution_count": 13,
   "id": "upper-narrow",
   "metadata": {},
   "outputs": [],
   "source": [
    "pos=neg=neutral=0\n",
    "for i in author_comment['polarity']:\n",
    "    if(i==0.0):\n",
    "        neutral += 1\n",
    "    elif(i<0.0):\n",
    "        neg+=1\n",
    "    elif(i>0.0):\n",
    "        pos+=1"
   ]
  },
  {
   "cell_type": "code",
   "execution_count": 14,
   "id": "settled-learning",
   "metadata": {},
   "outputs": [
    {
     "name": "stdout",
     "output_type": "stream",
     "text": [
      "<class 'pandas.core.frame.DataFrame'>\n",
      "Index: 120 entries, The Haves and the Have Nots Review  to Michael Harris\n",
      "Data columns (total 4 columns):\n",
      " #   Column        Non-Null Count  Dtype  \n",
      "---  ------        --------------  -----  \n",
      " 0   Comments      120 non-null    object \n",
      " 1   review        120 non-null    object \n",
      " 2   polarity      120 non-null    float64\n",
      " 3   subjectivity  120 non-null    float64\n",
      "dtypes: float64(2), object(2)\n",
      "memory usage: 4.7+ KB\n"
     ]
    }
   ],
   "source": [
    "author_comment.info() #delte later"
   ]
  },
  {
   "cell_type": "code",
   "execution_count": 15,
   "id": "independent-testament",
   "metadata": {},
   "outputs": [
    {
     "data": {
      "text/plain": [
       "120"
      ]
     },
     "execution_count": 15,
     "metadata": {},
     "output_type": "execute_result"
    }
   ],
   "source": [
    "total = len(author_comment)\n",
    "total"
   ]
  },
  {
   "cell_type": "code",
   "execution_count": 16,
   "id": "pleasant-logic",
   "metadata": {},
   "outputs": [
    {
     "name": "stdout",
     "output_type": "stream",
     "text": [
      "77\n",
      "14\n",
      "29\n"
     ]
    }
   ],
   "source": [
    "print(pos)\n",
    "print(neg)\n",
    "print(neutral)\n",
    "\n"
   ]
  },
  {
   "cell_type": "code",
   "execution_count": 17,
   "id": "grave-branch",
   "metadata": {},
   "outputs": [
    {
     "name": "stdout",
     "output_type": "stream",
     "text": [
      "64.17\n",
      "11.67\n",
      "24.17\n"
     ]
    }
   ],
   "source": [
    "def percentage(part,whole):\n",
    "     return 100 * float(part)/float(whole)\n",
    "pos=percentage(pos,total)\n",
    "neg=percentage(neg,total)\n",
    "neutral=percentage(neutral,total)\n",
    "\n",
    "pos=format(pos, '.2f')\n",
    "neg=format(neg, '.2f')\n",
    "neutral=format(neutral, '.2f')\n",
    "\n",
    "print(pos)\n",
    "print(neg)\n",
    "print(neutral)"
   ]
  },
  {
   "cell_type": "code",
   "execution_count": 18,
   "id": "confirmed-bathroom",
   "metadata": {},
   "outputs": [
    {
     "data": {
      "image/png": "[encoded data removed]",
      "text/plain": [
       "<Figure size 432x288 with 1 Axes>"
      ]
     },
     "metadata": {},
     "output_type": "display_data"
    }
   ],
   "source": [
    "\n",
    "\n",
    "labels = ['Positive ['+ str(pos) +'%]','Neutral ['+ str(neutral) +'%]','Negative ['+ str(neg) +'%]']\n",
    "sizes=[pos,neutral,neg]\n",
    "colors = ['green','yellow','red']\n",
    "patches,texts= plt.pie(sizes,colors=colors,startangle=90)\n",
    "plt.legend(patches,labels,loc=\"best\")\n",
    "plt.title(\"This is your result\")\n",
    "plt.axis('equal')\n",
    "plt.show()"
   ]
  },
  {
   "cell_type": "code",
   "execution_count": null,
   "id": "criminal-chapel",
   "metadata": {},
   "outputs": [],
   "source": []
  }
 ],
 "metadata": {
  "kernelspec": {
   "display_name": "Python 3",
   "language": "python",
   "name": "python3"
  },
  "language_info": {
   "codemirror_mode": {
    "name": "ipython",
    "version": 3
   },
   "file_extension": ".py",
   "mimetype": "text/x-python",
   "name": "python",
   "nbconvert_exporter": "python",
   "pygments_lexer": "ipython3",
   "version": "3.9.1"
  }
 },
 "nbformat": 4,
 "nbformat_minor": 5
}
