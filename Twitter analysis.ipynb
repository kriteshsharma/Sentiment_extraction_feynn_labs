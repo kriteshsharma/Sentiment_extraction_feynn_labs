{
 "cells": [
  {
   "cell_type": "code",
   "execution_count": 1,
   "id": "careful-oliver",
   "metadata": {},
   "outputs": [],
   "source": [
    "from textblob import TextBlob\n",
    "import sys,tweepy\n",
    "import matplotlib.pyplot as plt"
   ]
  },
  {
   "cell_type": "code",
   "execution_count": 2,
   "id": "integrated-adaptation",
   "metadata": {},
   "outputs": [
    {
     "name": "stdout",
     "output_type": "stream",
     "text": [
      "enter hashtag :bitcoin\n",
      "How many tweets to analyze 50\n",
      "neutral 56.00\n"
     ]
    },
    {
     "data": {
      "image/png": "[encoded data removed]",
      "text/plain": [
       "<Figure size 432x288 with 1 Axes>"
      ]
     },
     "metadata": {},
     "output_type": "display_data"
    }
   ],
   "source": [
    "def percentage(part,whole):\n",
    "    return 100 * float(part)/float(whole)\n",
    "\n",
    "consumerKey=\"uXKx5jLDhHmcKpA1C7by62XV6\"\n",
    "consumerSecret= \"MegtLtYaPBdvRazgUgx4vAz7fHAKSdWFY8POmY77sKEKCZkAlc\"\n",
    "accessToken= \"1433844380247363587-aU6UfdJb5HbEMxXq74FHx2iswjepqD\"\n",
    "accessTokenSecret = \"pQJ44YMWha6zZYRsT0iWEXXkoRw01zthAgfdy90m78lEj\"\n",
    "\n",
    "auth = tweepy.OAuthHandler(consumer_key=consumerKey, consumer_secret=consumerSecret)\n",
    "auth.set_access_token(accessToken,accessTokenSecret)\n",
    "api = tweepy.API(auth)\n",
    "\n",
    "searchTerm = input(\"enter hashtag :\")\n",
    "number = int(input(\"How many tweets to analyze \"))\n",
    "\n",
    "tweets = tweepy.Cursor(api.search , q=searchTerm).items(number)\n",
    "\n",
    "pos=0\n",
    "neg=0\n",
    "neutral=0\n",
    "polarity=0\n",
    "\n",
    "for tweet in tweets:\n",
    "    #print(tweet.text)\n",
    "    analysis = TextBlob(tweet.text)\n",
    "    polarity += analysis.sentiment.polarity\n",
    "\n",
    "    if(analysis.sentiment.polarity == 0):\n",
    "        neutral += 1\n",
    "    elif(analysis.sentiment.polarity < 0.00):\n",
    "        neg += 1\n",
    "    elif(analysis.sentiment.polarity > 0.00):\n",
    "        pos += 1\n",
    "pos = percentage(pos,number)\n",
    "neg = percentage(neg,number)\n",
    "neutral = percentage(neutral,number)\n",
    "polarity = percentage(polarity,number)\n",
    "\n",
    "pos= format(pos, '.2f')\n",
    "neg = format(neg, '.2f')\n",
    "neutral= format(neutral, '.2f')\n",
    "\n",
    "max1 = max(pos,neg,neutral)\n",
    "if(max1==pos):\n",
    "    print(\"positve \"+max1)\n",
    "elif(max1==neg):\n",
    "    print(\"negative \"+max1)\n",
    "elif(max1==neutral):\n",
    "    print(\"neutral \"+max1)\n",
    "\n",
    "labels = ['Positive ['+ str(pos) +'%]','Neutral ['+ str(neutral) +'%]','Negative ['+ str(neg) +'%]']\n",
    "sizes=[pos,neutral,neg]\n",
    "colors = ['green','yellow','red']\n",
    "patches,texts= plt.pie(sizes,colors=colors,startangle=90)\n",
    "plt.legend(patches,labels,loc=\"best\")\n",
    "plt.title(\"This is your result\")\n",
    "plt.axis('equal')\n",
    "plt.show()\n"
   ]
  }
 ],
 "metadata": {
  "kernelspec": {
   "display_name": "Python 3",
   "language": "python",
   "name": "python3"
  },
  "language_info": {
   "codemirror_mode": {
    "name": "ipython",
    "version": 3
   },
   "file_extension": ".py",
   "mimetype": "text/x-python",
   "name": "python",
   "nbconvert_exporter": "python",
   "pygments_lexer": "ipython3",
   "version": "3.9.1"
  }
 },
 "nbformat": 4,
 "nbformat_minor": 5
}
